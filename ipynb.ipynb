# Importando as bibliotecas necessárias
from sklearn.datasets import load_breast_cancer
import pandas as pd

# Carregando o dataset
data = load_breast_cancer()

# Criando um DataFrame para visualizar os dados
df = pd.DataFrame(data.data, columns=data.feature_names)
df['target'] = data.target

# Visualizando as primeiras amostras do conjunto de dados
print(df.head())

# Verificando as features e o target
print("Features: ", data.feature_names)
print("Target: ", data.target_names)

# Importando bibliotecas para pré-processamento
from sklearn.model_selection import train_test_split
from sklearn.preprocessing import StandardScaler

# Dividindo os dados em treino (70%) e teste (30%)
X_train, X_test, y_train, y_test = train_test_split(data.data, data.target, test_size=0.3, random_state=42)

# Verificando se existem valores nulos
print("Valores nulos no conjunto de treino:", pd.DataFrame(X_train).isnull().sum().sum())
print("Valores nulos no conjunto de teste:", pd.DataFrame(X_test).isnull().sum().sum())

# Normalizando os dados com StandardScaler
scaler = StandardScaler()
X_train = scaler.fit_transform(X_train)
X_test = scaler.transform(X_test)

# Importando os algoritmos de classificação
from sklearn.tree import DecisionTreeClassifier
from sklearn.ensemble import RandomForestClassifier
from sklearn.metrics import classification_report, accuracy_score

# Treinando um modelo de Árvore de Decisão
tree_model = DecisionTreeClassifier(random_state=42)
tree_model.fit(X_train, y_train)
y_pred_tree = tree_model.predict(X_test)

# Treinando um modelo de Random Forest
rf_model = RandomForestClassifier(random_state=42)
rf_model.fit(X_train, y_train)
y_pred_rf = rf_model.predict(X_test)

# Avaliando a precisão dos modelos
print("Precisão Árvore de Decisão:", accuracy_score(y_test, y_pred_tree))
print("Precisão Random Forest:", accuracy_score(y_test, y_pred_rf))

from sklearn.metrics import confusion_matrix, classification_report

# Avaliação do modelo Árvore de Decisão
print("\nMatriz de Confusão - Árvore de Decisão:")
print(confusion_matrix(y_test, y_pred_tree))
print("\nClassification Report - Árvore de Decisão:")
print(classification_report(y_test, y_pred_tree))

# Avaliação do modelo Random Forest
print("\nMatriz de Confusão - Random Forest:")
print(confusion_matrix(y_test, y_pred_rf))
print("\nClassification Report - Random Forest:")
print(classification_report(y_test, y_pred_rf))
